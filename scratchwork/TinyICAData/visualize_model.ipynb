{
 "cells": [
  {
   "cell_type": "code",
   "execution_count": 1,
   "metadata": {
    "ExecuteTime": {
     "end_time": "2021-06-22T17:50:38.967805Z",
     "start_time": "2021-06-22T17:50:37.658971Z"
    }
   },
   "outputs": [
    {
     "name": "stderr",
     "output_type": "stream",
     "text": [
      "Matplotlib created a temporary config/cache directory at /tmp/matplotlib-qzmmg36t because the default path (/home/tsr42/.cache/matplotlib) is not a writable directory; it is highly recommended to set the MPLCONFIGDIR environment variable to a writable directory, in particular to speed up the import of Matplotlib and to better support multiprocessing.\n"
     ]
    }
   ],
   "source": [
    "%matplotlib inline\n",
    "import numpy as np\n",
    "import matplotlib.pyplot as plt\n",
    "import torch\n",
    "import cv2\n",
    "import glob\n",
    "\n",
    "import sys\n",
    "sys.path.append(\"../..\") # include base dir\n",
    "\n",
    "from jlonevae_lib.architecture.load_model import load_model\n",
    "import jlonevae_lib.architecture.vae_jacobian as vj"
   ]
  },
  {
   "cell_type": "code",
   "execution_count": 2,
   "metadata": {
    "ExecuteTime": {
     "end_time": "2021-06-22T17:50:38.973973Z",
     "start_time": "2021-06-22T17:50:38.969330Z"
    }
   },
   "outputs": [],
   "source": [
    "### COPYPASTA from disentanglement_lib/disentanglement_lib/data/ground_truth/threeDots.py\n",
    "### EASIER than trying to figure out how to import that file here\n",
    "\n",
    "# create an image with dots of the given radius (range 0 to 1)\n",
    "# placed at the given locations (shape: (N, 2)) in the range 0 to 1\n",
    "# the output image is shape (64, 64, 1)\n",
    "# with a black dot on a white background\n",
    "# and some gray colors on the border pixels\n",
    "# (the gray color is created by making a purely black circle on a 10x larger image\n",
    "# and then resizing the image smaller and averaging nearby pixels\n",
    "def draw_dots_to_image_array(radius, dot_centers):\n",
    "    num_object = dot_centers.shape[0]\n",
    "    im_side_len = 64\n",
    "    # in order to get nicely averaged/grayscale shape boundary\n",
    "    # we draw on a larger canvas and scale down\n",
    "    # Create a black image\n",
    "    upscale_image_factor = 10\n",
    "    precision_scale = 10\n",
    "    black = 0 \n",
    "    up_img = np.ones((im_side_len * upscale_image_factor,im_side_len *\n",
    "      upscale_image_factor,1))\n",
    "    up_radius = int(im_side_len * radius * upscale_image_factor * 2**precision_scale)\n",
    "    for i in range(num_object):\n",
    "        up_center = np.floor(im_side_len * dot_centers[i] * upscale_image_factor * 2**precision_scale).astype(int)\n",
    "        # negative thickness means filled circle\n",
    "        circle = cv2.circle(up_img, tuple(up_center), up_radius, color=black, thickness = -1, shift=precision_scale)\n",
    "    arr = cv2.resize(up_img, (im_side_len,im_side_len), interpolation=cv2.INTER_AREA)\n",
    "    return arr"
   ]
  },
  {
   "cell_type": "markdown",
   "metadata": {},
   "source": [
    "# Embed into model"
   ]
  },
  {
   "cell_type": "code",
   "execution_count": 3,
   "metadata": {
    "ExecuteTime": {
     "end_time": "2021-06-22T17:50:38.979852Z",
     "start_time": "2021-06-22T17:50:38.976585Z"
    }
   },
   "outputs": [],
   "source": [
    "combinedOutputs = \"trainedModels\""
   ]
  },
  {
   "cell_type": "code",
   "execution_count": 4,
   "metadata": {
    "ExecuteTime": {
     "end_time": "2021-06-22T17:50:38.985224Z",
     "start_time": "2021-06-22T17:50:38.980897Z"
    }
   },
   "outputs": [
    {
     "data": {
      "text/plain": [
       "'/mnt/homes/@LH-CORNELL.EDU/61/tsr42-1000002/jlonevae/scratchwork/TinyICAData'"
      ]
     },
     "execution_count": 4,
     "metadata": {},
     "output_type": "execute_result"
    }
   ],
   "source": [
    "pwd()"
   ]
  },
  {
   "cell_type": "code",
   "execution_count": 30,
   "metadata": {
    "ExecuteTime": {
     "end_time": "2021-06-22T18:12:02.846363Z",
     "start_time": "2021-06-22T18:12:02.830273Z"
    }
   },
   "outputs": [],
   "source": [
    "device=\"cuda\" if torch.cuda.is_available() else \"cpu\"\n"
   ]
  },
  {
   "cell_type": "code",
   "execution_count": 31,
   "metadata": {
    "ExecuteTime": {
     "end_time": "2021-06-22T18:12:02.994087Z",
     "start_time": "2021-06-22T18:12:02.984181Z"
    },
    "scrolled": true
   },
   "outputs": [
    {
     "data": {
      "text/plain": [
       "<bound method Module.parameters of ConvVAE(\n",
       "  (fcmu): Linear(in_features=10, out_features=3, bias=True)\n",
       "  (fclogvar): Linear(in_features=10, out_features=3, bias=True)\n",
       "  (emb_convs): ModuleList()\n",
       "  (emb_fcs): ModuleList(\n",
       "    (0): Linear(in_features=2, out_features=10, bias=True)\n",
       "    (1): Linear(in_features=10, out_features=10, bias=True)\n",
       "    (2): Linear(in_features=10, out_features=10, bias=True)\n",
       "  )\n",
       "  (gen_fcs): ModuleList(\n",
       "    (0): Linear(in_features=3, out_features=2, bias=True)\n",
       "  )\n",
       "  (gen_convs): ModuleList()\n",
       ")>"
      ]
     },
     "execution_count": 31,
     "metadata": {},
     "output_type": "execute_result"
    }
   ],
   "source": [
    "model.parameters"
   ]
  },
  {
   "cell_type": "code",
   "execution_count": 55,
   "metadata": {
    "ExecuteTime": {
     "end_time": "2021-06-23T14:21:15.721150Z",
     "start_time": "2021-06-23T14:21:15.401342Z"
    },
    "scrolled": false
   },
   "outputs": [
    {
     "name": "stdout",
     "output_type": "stream",
     "text": [
      "./trainedModels/20210622-173219/beta0_010_ica0_010/cache_batch_no100000\n"
     ]
    },
    {
     "data": {
      "image/png": "[encoded data removed]",
      "text/plain": [
       "<Figure size 432x288 with 1 Axes>"
      ]
     },
     "metadata": {
      "needs_background": "light"
     },
     "output_type": "display_data"
    },
    {
     "name": "stdout",
     "output_type": "stream",
     "text": [
      "./trainedModels/20210622-182151/beta0_010_ica0_001/cache_batch_no100000\n"
     ]
    },
    {
     "data": {
      "image/png": "[encoded data removed]",
      "text/plain": [
       "<Figure size 432x288 with 1 Axes>"
      ]
     },
     "metadata": {
      "needs_background": "light"
     },
     "output_type": "display_data"
    },
    {
     "name": "stdout",
     "output_type": "stream",
     "text": [
      "./trainedModels/20210622-173526/beta0_001_ica0_010/cache_batch_no100000\n"
     ]
    },
    {
     "data": {
      "image/png": "[encoded data removed]",
      "text/plain": [
       "<Figure size 432x288 with 1 Axes>"
      ]
     },
     "metadata": {
      "needs_background": "light"
     },
     "output_type": "display_data"
    },
    {
     "name": "stdout",
     "output_type": "stream",
     "text": [
      "./trainedModels/20210622-174239/beta0_001_ica0_001/cache_batch_no100000\n"
     ]
    },
    {
     "data": {
      "image/png": "[encoded data removed]",
      "text/plain": [
       "<Figure size 432x288 with 1 Axes>"
      ]
     },
     "metadata": {
      "needs_background": "light"
     },
     "output_type": "display_data"
    }
   ],
   "source": [
    "for betastring in [\"0_010\",\"0_001\"]:\n",
    "    for gammastring in [\"0_010\",\"0_001\"]:\n",
    "        model_path_matches = glob.glob(f\"./trainedModels/*/beta{betastring}_ica{gammastring}/cache_batch_no100000\")\n",
    "        model_path = model_path_matches[0]\n",
    "        print(model_path)\n",
    "        model = load_model(model_path,device)\n",
    "jjj\n",
    "                w = p.data.cpu().detach().numpy()\n",
    "        #print(-np.sort(-np.diag(w.T@w)))\n",
    "        for v in w.T:\n",
    "            plt.plot((0,v[0]),(0,v[1]))\n",
    "        plt.axis(\"equal\")\n",
    "        plt.ylim((-2.5,2.5))\n",
    "        plt.xlim((-2.5,2.5))\n",
    "        plt.show();plt.close();"
   ]
  },
  {
   "cell_type": "code",
   "execution_count": 33,
   "metadata": {
    "ExecuteTime": {
     "end_time": "2021-06-22T18:12:03.766754Z",
     "start_time": "2021-06-22T18:12:03.694786Z"
    }
   },
   "outputs": [
    {
     "data": {
      "text/plain": [
       "(-0.6394368380308151,\n",
       " 2.180501398444176,\n",
       " -0.06272202520631254,\n",
       " 1.2459862146060914)"
      ]
     },
     "execution_count": 33,
     "metadata": {},
     "output_type": "execute_result"
    },
    {
     "data": {
      "image/png": "[encoded data removed]",
      "text/plain": [
       "<Figure size 432x288 with 1 Axes>"
      ]
     },
     "metadata": {
      "needs_background": "light"
     },
     "output_type": "display_data"
    }
   ],
   "source": []
  },
  {
   "cell_type": "code",
   "execution_count": 8,
   "metadata": {
    "ExecuteTime": {
     "end_time": "2021-06-22T17:50:40.787044Z",
     "start_time": "2021-06-22T17:50:40.784362Z"
    }
   },
   "outputs": [],
   "source": [
    "# note that Jg has shape latent, imageShape...which is transpose\n",
    "# of what you might expect for a jacobian\n",
    "# We take the SVD as a way to understand how the jacobian transforms\n",
    "# the latent space locally\n",
    "def jacs_svd(Jg, latent_dim = 10):\n",
    "    np.testing.assert_almost_equal(Jg.shape[0], latent_dim)\n",
    "    jacobian = Jg.reshape([latent_dim, -1]).transpose()\n",
    "    u,s,vt = np.linalg.svd(jacobian)\n",
    "    #print(s, vt)\n",
    "    return u,s,vt"
   ]
  },
  {
   "cell_type": "code",
   "execution_count": 9,
   "metadata": {
    "ExecuteTime": {
     "end_time": "2021-06-22T17:50:41.012069Z",
     "start_time": "2021-06-22T17:50:40.787991Z"
    }
   },
   "outputs": [],
   "source": [
    "import scipy.stats"
   ]
  },
  {
   "cell_type": "code",
   "execution_count": 10,
   "metadata": {
    "ExecuteTime": {
     "end_time": "2021-06-22T17:50:41.026150Z",
     "start_time": "2021-06-22T17:50:41.015735Z"
    }
   },
   "outputs": [],
   "source": [
    "# Following On Implicit Regularization in β-VAEs\n",
    "# we compute Nabla^2_gz log p(x; g(z))\n",
    "# = Nabla^2_gz x log g(z) + (1-x)log(1-g(z))\n",
    "# = - (g(z)^2 - 2g(z)x - x)/(g(z)^2(1-g(z))^2)\n",
    "# Note: the result is the diagonal of a square matrix with \n",
    "# each side length equal to the number of pixels * channels in the image\n",
    "# ...shaped in a way to make the correspondence to pixels easily interpretable\n",
    "def Hpx(x, gz):\n",
    "    #print(min(gz.flatten()), max(gz.flatten()), min(x.flatten()), max(x.flatten()))\n",
    "    diff = x - gz\n",
    "    #print(min(diff), max(diff))\n",
    "    pixelwiseLogprobs = - (gz**2 - 2*gz*x + x)/(gz**2*(1-gz)**2)\n",
    "    #print(pixelwiseLogprobs.shape)\n",
    "    return np.clip(pixelwiseLogprobs, -1e32, 0)\n",
    "\n",
    "# see equation 11 of that paper\n",
    "# note that Jg has shape latent, imageShape...which is transpose\n",
    "# of what you might expect for a jacobian\n",
    "def optLogCovar(x, gz, Jg, beta):\n",
    "    xshape = x.shape\n",
    "    gzshape = gz.shape\n",
    "    Jgshape = Jg.shape\n",
    "    #print(f\"X {xshape}, gz {gzshape}, Jg {Jgshape}\")\n",
    "    np.testing.assert_almost_equal(xshape, gzshape)\n",
    "    np.testing.assert_almost_equal(xshape, Jgshape[1:])\n",
    "    H = Hpx(x, gz)\n",
    "    plt.imshow(H[0]);plt.colorbar();plt.show();plt.close();\n",
    "    #print(f\"H {H.shape}\")\n",
    "    esum = np.einsum(\"lchw,chw,kchw->lk\",Jg, H, Jg)\n",
    "    #print(esum)\n",
    "    denominator = np.eye(Jg.shape[0])-(1/beta)*esum\n",
    "    #print(denominator)\n",
    "    s = 1/denominator\n",
    "    return np.log(s)"
   ]
  },
  {
   "cell_type": "code",
   "execution_count": 11,
   "metadata": {
    "ExecuteTime": {
     "end_time": "2021-06-22T17:50:41.300263Z",
     "start_time": "2021-06-22T17:50:41.027869Z"
    },
    "scrolled": false
   },
   "outputs": [
    {
     "data": {
      "text/plain": [
       "<matplotlib.collections.PathCollection at 0x7f3fe07aca20>"
      ]
     },
     "execution_count": 11,
     "metadata": {},
     "output_type": "execute_result"
    },
    {
     "data": {
      "image/png": "[encoded data removed]",
      "text/plain": [
       "<Figure size 432x288 with 1 Axes>"
      ]
     },
     "metadata": {
      "needs_background": "light"
     },
     "output_type": "display_data"
    }
   ],
   "source": [
    "encoding = torch.tensor(np.random.normal(size=(1000,3)).astype(np.float32)*2).cuda()\n",
    "recon = model.decode(encoding).detach().cpu()\n",
    "plt.scatter(recon[:,0,0,0],recon[:,1,0,0])"
   ]
  },
  {
   "cell_type": "code",
   "execution_count": 12,
   "metadata": {
    "ExecuteTime": {
     "end_time": "2021-06-22T17:50:41.304501Z",
     "start_time": "2021-06-22T17:50:41.301382Z"
    }
   },
   "outputs": [],
   "source": [
    "import matplotlib\n",
    "font = {'family' : 'normal',\n",
    "        'size'   : 22}\n",
    "\n",
    "matplotlib.rc('font', **font)\n",
    "gray = (167/255, 168/255, 170/255, 1)\n",
    "red = (179/255, 27/255, 27/255, 1)\n",
    "blue = (0,47/255, 108/255,1)\n",
    "markersize=10"
   ]
  },
  {
   "cell_type": "markdown",
   "metadata": {},
   "source": [
    "# Explicitly writing out T"
   ]
  },
  {
   "cell_type": "code",
   "execution_count": 13,
   "metadata": {
    "ExecuteTime": {
     "end_time": "2021-06-22T17:50:41.336669Z",
     "start_time": "2021-06-22T17:50:41.305454Z"
    },
    "scrolled": false
   },
   "outputs": [],
   "source": [
    "def get_nonzero_eigenvals_vects(w,v):\n",
    "    orderedInds = np.argsort(-np.abs(w))\n",
    "    vs = []\n",
    "    ws = np.zeros((20,20))\n",
    "    basis_ind = 0\n",
    "    i = 0\n",
    "    while i < len(orderedInds):\n",
    "        indx = orderedInds[i]\n",
    "        if np.abs(w[indx]) < 0.001:\n",
    "            break\n",
    "        if np.max(np.abs(np.imag(v[:,indx]))) < 0.001:\n",
    "            vs.append(np.real(v[:,indx]))\n",
    "            ws[basis_ind,basis_ind] = np.real(w[indx])\n",
    "            basis_ind += 1\n",
    "            i += 1\n",
    "        else:\n",
    "            vs.append(np.real(v[:,indx]))\n",
    "            vs.append(np.imag(v[:,indx]))\n",
    "            ws[basis_ind,basis_ind] = np.real(w[indx])\n",
    "            ws[basis_ind+1,basis_ind+1] = np.real(w[indx])\n",
    "            ws[basis_ind,basis_ind+1] = np.imag(w[indx])\n",
    "            ws[basis_ind+1,basis_ind] = -np.imag(w[indx])\n",
    "            basis_ind += 2\n",
    "            # complex eigenvalues come in pairs\n",
    "            i += 2\n",
    "    ws = ws[:basis_ind, :basis_ind]\n",
    "    vs = np.array(vs)\n",
    "    return(ws, vs)"
   ]
  },
  {
   "cell_type": "code",
   "execution_count": 14,
   "metadata": {
    "ExecuteTime": {
     "end_time": "2021-06-22T17:50:41.461019Z",
     "start_time": "2021-06-22T17:50:41.337742Z"
    }
   },
   "outputs": [
    {
     "ename": "NameError",
     "evalue": "name 'w' is not defined",
     "output_type": "error",
     "traceback": [
      "\u001b[0;31m---------------------------------------------------------------------------\u001b[0m",
      "\u001b[0;31mNameError\u001b[0m                                 Traceback (most recent call last)",
      "\u001b[0;32m<ipython-input-14-8abc9ddf38ab>\u001b[0m in \u001b[0;36m<module>\u001b[0;34m\u001b[0m\n\u001b[0;32m----> 1\u001b[0;31m \u001b[0mws\u001b[0m\u001b[0;34m,\u001b[0m \u001b[0mvs\u001b[0m \u001b[0;34m=\u001b[0m \u001b[0mget_nonzero_eigenvals_vects\u001b[0m\u001b[0;34m(\u001b[0m\u001b[0mw\u001b[0m\u001b[0;34m,\u001b[0m\u001b[0mv\u001b[0m\u001b[0;34m)\u001b[0m\u001b[0;34m\u001b[0m\u001b[0;34m\u001b[0m\u001b[0m\n\u001b[0m\u001b[1;32m      2\u001b[0m \u001b[0mscaling_factor\u001b[0m \u001b[0;34m=\u001b[0m \u001b[0mnp\u001b[0m\u001b[0;34m.\u001b[0m\u001b[0msqrt\u001b[0m\u001b[0;34m(\u001b[0m\u001b[0mnp\u001b[0m\u001b[0;34m.\u001b[0m\u001b[0msum\u001b[0m\u001b[0;34m(\u001b[0m\u001b[0mnp\u001b[0m\u001b[0;34m.\u001b[0m\u001b[0msquare\u001b[0m\u001b[0;34m(\u001b[0m\u001b[0mvs\u001b[0m\u001b[0;34m)\u001b[0m\u001b[0;34m,\u001b[0m \u001b[0maxis\u001b[0m\u001b[0;34m=\u001b[0m\u001b[0;36m1\u001b[0m\u001b[0;34m)\u001b[0m\u001b[0;34m)\u001b[0m\u001b[0;34m\u001b[0m\u001b[0;34m\u001b[0m\u001b[0m\n\u001b[1;32m      3\u001b[0m \u001b[0mscaled_vs\u001b[0m \u001b[0;34m=\u001b[0m \u001b[0mvs\u001b[0m\u001b[0;34m/\u001b[0m\u001b[0;34m(\u001b[0m\u001b[0mscaling_factor\u001b[0m\u001b[0;34m[\u001b[0m\u001b[0;34m:\u001b[0m\u001b[0;34m,\u001b[0m\u001b[0mnp\u001b[0m\u001b[0;34m.\u001b[0m\u001b[0mnewaxis\u001b[0m\u001b[0;34m]\u001b[0m\u001b[0;34m)\u001b[0m\u001b[0;34m\u001b[0m\u001b[0;34m\u001b[0m\u001b[0m\n\u001b[1;32m      4\u001b[0m \u001b[0mscaled_ws\u001b[0m \u001b[0;34m=\u001b[0m \u001b[0;34m(\u001b[0m\u001b[0mscaling_factor\u001b[0m\u001b[0;34m[\u001b[0m\u001b[0;34m:\u001b[0m\u001b[0;34m,\u001b[0m\u001b[0mnp\u001b[0m\u001b[0;34m.\u001b[0m\u001b[0mnewaxis\u001b[0m\u001b[0;34m]\u001b[0m\u001b[0;34m)\u001b[0m \u001b[0;34m*\u001b[0m \u001b[0mws\u001b[0m \u001b[0;34m/\u001b[0m\u001b[0mscaling_factor\u001b[0m\u001b[0;34m[\u001b[0m\u001b[0mnp\u001b[0m\u001b[0;34m.\u001b[0m\u001b[0mnewaxis\u001b[0m\u001b[0;34m,\u001b[0m\u001b[0;34m:\u001b[0m\u001b[0;34m]\u001b[0m\u001b[0;34m\u001b[0m\u001b[0;34m\u001b[0m\u001b[0m\n",
      "\u001b[0;31mNameError\u001b[0m: name 'w' is not defined"
     ]
    }
   ],
   "source": [
    "ws, vs = get_nonzero_eigenvals_vects(w,v)\n",
    "scaling_factor = np.sqrt(np.sum(np.square(vs), axis=1))\n",
    "scaled_vs = vs/(scaling_factor[:,np.newaxis])\n",
    "scaled_ws = (scaling_factor[:,np.newaxis]) * ws /scaling_factor[np.newaxis,:]"
   ]
  },
  {
   "cell_type": "code",
   "execution_count": null,
   "metadata": {
    "ExecuteTime": {
     "end_time": "2021-06-22T17:50:41.462610Z",
     "start_time": "2021-06-22T17:50:37.687Z"
    },
    "scrolled": true
   },
   "outputs": [],
   "source": [
    "f = plt.figure()\n",
    "plt.imshow(scaled_ws); \n",
    "plt.colorbar();\n",
    "plt.xticks(range(10))\n",
    "plt.yticks(range(10))\n",
    "f.savefig(\"cyclicConsistency/cyclic_consistency_basis_transform.png\")\n",
    "plt.show();plt.close();"
   ]
  },
  {
   "cell_type": "code",
   "execution_count": null,
   "metadata": {
    "ExecuteTime": {
     "end_time": "2021-06-22T17:50:41.463328Z",
     "start_time": "2021-06-22T17:50:37.689Z"
    },
    "scrolled": true
   },
   "outputs": [],
   "source": [
    "plt.plot(np.sum(np.abs(np.matmul(large_succeptibility, scaled_vs.T) - np.matmul(scaled_vs.T,scaled_ws)),axis=0))"
   ]
  },
  {
   "cell_type": "code",
   "execution_count": null,
   "metadata": {
    "ExecuteTime": {
     "end_time": "2021-06-22T17:50:41.464148Z",
     "start_time": "2021-06-22T17:50:37.690Z"
    },
    "scrolled": false
   },
   "outputs": [],
   "source": [
    "plt.imshow(test_data[0,0], cmap=\"gray\")"
   ]
  },
  {
   "cell_type": "code",
   "execution_count": null,
   "metadata": {
    "ExecuteTime": {
     "end_time": "2021-06-22T17:50:41.464912Z",
     "start_time": "2021-06-22T17:50:37.691Z"
    }
   },
   "outputs": [],
   "source": [
    "np.sum(np.square(scaled_vs),axis=1)"
   ]
  },
  {
   "cell_type": "code",
   "execution_count": null,
   "metadata": {
    "ExecuteTime": {
     "end_time": "2021-06-22T17:50:41.465706Z",
     "start_time": "2021-06-22T17:50:37.694Z"
    },
    "scrolled": true
   },
   "outputs": [],
   "source": [
    "for i in range(10):\n",
    "    f = plt.figure()\n",
    "    plt.imshow(scaled_vs[i,:].reshape((64,64)),vmin=-0.1,vmax=0.1);plt.colorbar();plt.show()\n",
    "    f.savefig(f\"cyclicConsistency/cyclic_consistency_basisvect_{i}.png\");\n",
    "    plt.close();"
   ]
  },
  {
   "cell_type": "markdown",
   "metadata": {},
   "source": [
    "# Other Cycle"
   ]
  },
  {
   "cell_type": "code",
   "execution_count": null,
   "metadata": {
    "ExecuteTime": {
     "end_time": "2021-06-22T17:50:41.466391Z",
     "start_time": "2021-06-22T17:50:37.695Z"
    }
   },
   "outputs": [],
   "source": [
    "other_recon_ability = np.einsum(\"labc,jabc->lj\",emb_jacs, jacs[:,0,:,:,:])\n",
    "succeptibility = other_recon_ability\n",
    "o_w,o_v = np.linalg.eig(succeptibility)"
   ]
  },
  {
   "cell_type": "code",
   "execution_count": null,
   "metadata": {
    "ExecuteTime": {
     "end_time": "2021-06-22T17:50:41.467121Z",
     "start_time": "2021-06-22T17:50:37.696Z"
    }
   },
   "outputs": [],
   "source": [
    "f = plt.figure(figsize=(10,8))\n",
    "plt.scatter(np.real(o_w[np.abs(o_w)>0]), np.imag(o_w[np.abs(o_w)>0]))\n",
    "plt.xlim(-0.25, 1.25)\n",
    "plt.ylim(-0.7, 0.7)\n",
    "plt.xlabel(\"Real\")\n",
    "plt.ylabel(\"Imag\")\n",
    "plt.axis('equal')\n",
    "f.savefig(\"cyclicConsistency/other_cyclic_consistency_eigenvalues.png\")\n",
    "plt.show();"
   ]
  },
  {
   "cell_type": "code",
   "execution_count": null,
   "metadata": {
    "ExecuteTime": {
     "end_time": "2021-06-22T17:50:41.467855Z",
     "start_time": "2021-06-22T17:50:37.698Z"
    }
   },
   "outputs": [],
   "source": [
    "ws, vs = get_nonzero_eigenvals_vects(o_w,o_v)\n",
    "scaling_factor = np.sqrt(np.sum(np.square(vs), axis=1))\n",
    "scaled_vs = vs/(scaling_factor[:,np.newaxis])\n",
    "scaled_ws = (scaling_factor[:,np.newaxis]) * ws /scaling_factor[np.newaxis,:]"
   ]
  },
  {
   "cell_type": "code",
   "execution_count": null,
   "metadata": {
    "ExecuteTime": {
     "end_time": "2021-06-22T17:50:41.468499Z",
     "start_time": "2021-06-22T17:50:37.699Z"
    }
   },
   "outputs": [],
   "source": [
    "f = plt.figure()\n",
    "plt.imshow(scaled_ws); \n",
    "plt.colorbar();\n",
    "plt.xticks(range(10))\n",
    "plt.yticks(range(10))\n",
    "f.savefig(\"cyclicConsistency/other_cyclic_consistency_basis_transform.png\")\n",
    "plt.show();plt.close();"
   ]
  },
  {
   "cell_type": "code",
   "execution_count": null,
   "metadata": {
    "ExecuteTime": {
     "end_time": "2021-06-22T17:50:41.469333Z",
     "start_time": "2021-06-22T17:50:37.700Z"
    }
   },
   "outputs": [],
   "source": [
    "plt.plot(np.sum(np.abs(np.matmul(succeptibility, scaled_vs.T) - np.matmul(scaled_vs.T,scaled_ws)),axis=0))"
   ]
  },
  {
   "cell_type": "code",
   "execution_count": null,
   "metadata": {
    "ExecuteTime": {
     "end_time": "2021-06-22T17:50:41.470120Z",
     "start_time": "2021-06-22T17:50:37.701Z"
    },
    "scrolled": false
   },
   "outputs": [],
   "source": [
    "for i in range(10):\n",
    "    f = plt.figure()\n",
    "    plt.scatter(range(10), scaled_vs[i,:])\n",
    "    plt.ylim((-1,1))\n",
    "    f.savefig(f\"cyclicConsistency/other_cyclic_consistency_basisvect_{i}.png\");\n",
    "    plt.show();\n",
    "    plt.close();"
   ]
  },
  {
   "cell_type": "code",
   "execution_count": null,
   "metadata": {},
   "outputs": [],
   "source": []
  },
  {
   "cell_type": "markdown",
   "metadata": {},
   "source": [
    "# Scratchwork"
   ]
  },
  {
   "cell_type": "code",
   "execution_count": null,
   "metadata": {
    "ExecuteTime": {
     "end_time": "2021-06-22T17:50:41.470819Z",
     "start_time": "2021-06-22T17:50:37.704Z"
    },
    "scrolled": false
   },
   "outputs": [],
   "source": [
    "# either switch these timestamps to * (to find any matchign run)\n",
    "# or update to a particular run. These timestamps are associated with the models used in the paper\n",
    "for gammastring, timestamp in [(\"0_1000\",\"*\")]:\n",
    "    print(gammastring)\n",
    "    print(gammastring)\n",
    "    print(gammastring)\n",
    "    print(gammastring)\n",
    "    model, encoding, logvar, test_data = get_model_and_enc(gammastring,timestamp,test_data)\n",
    "    recon = model.decode(encoding)\n",
    "    jacs = vj.compute_generator_jacobian_analytic(model, encoding, device=device,\n",
    "                                        im_channels=1)#.detach().cpu().numpy()\n",
    "    jacs_svd(jacs)\n",
    "    logvar = logvar.detach().cpu().numpy()\n",
    "    recon = recon.detach().cpu().numpy()\n",
    "    emb_jacs = vj.compute_embedding_jacobian_analytic(model, torch.tensor(test_data), device=device)\n",
    "    # everything has a fake \"batch\" index...\n",
    "    estLogCovar = optLogCovar(test_data[0], recon[0], jacs[:,0,:,:,:], beta=4)\n",
    "    print(np.diag(estLogCovar))\n",
    "    print(logvar)\n",
    "    u,s,vt = jacs_svd(jacs)\n",
    "    plt.scatter(range(1,len(s)+1),s);plt.show();plt.close();\n",
    "    for i in range(10):\n",
    "        f = plt.figure();\n",
    "        plt.imshow(u[:,i].reshape((64,64)), vmin=-0.3, vmax=0.3);plt.colorbar();\n",
    "        f.savefig(f\"cyclicConsistency/generative_singular_vector_{i}.png\");\n",
    "        plt.show();plt.close();\n",
    "    for i in range(10):\n",
    "        f = plt.figure();\n",
    "        plt.imshow(jacs[i,0,0], vmin=-2.0, vmax=2.0);plt.colorbar();\n",
    "        f.savefig(f\"cyclicConsistency/generative_jacobian_vector_{i}.png\");\n",
    "        plt.show();plt.close();\n",
    "        \n",
    "    gen_delta = np.einsum(\"lhw,il->ihw\",jacs[:,0,0,:,:],scaled_vs).reshape((10,64,64));\n",
    "    for i in range(10):\n",
    "        f = plt.figure();\n",
    "        plt.imshow(gen_delta[i],vmin=-1,vmax=1);\n",
    "        plt.colorbar();\n",
    "        f.savefig(f\"cyclicConsistency/other_cyclic_half_cycle_{i}.png\");\n",
    "        plt.show();plt.close();"
   ]
  },
  {
   "cell_type": "code",
   "execution_count": null,
   "metadata": {
    "ExecuteTime": {
     "end_time": "2021-06-22T17:50:41.471407Z",
     "start_time": "2021-06-22T17:50:37.705Z"
    }
   },
   "outputs": [],
   "source": [
    "A = np.random.uniform(size=(600,600))\n",
    "u, s, vt = np.linalg.svd(A)\n",
    "evals, evects = np.linalg.eig(A)"
   ]
  },
  {
   "cell_type": "code",
   "execution_count": null,
   "metadata": {
    "ExecuteTime": {
     "end_time": "2021-06-22T17:50:41.471956Z",
     "start_time": "2021-06-22T17:50:37.706Z"
    }
   },
   "outputs": [],
   "source": [
    "s"
   ]
  },
  {
   "cell_type": "code",
   "execution_count": null,
   "metadata": {
    "ExecuteTime": {
     "end_time": "2021-06-22T17:50:41.472585Z",
     "start_time": "2021-06-22T17:50:37.707Z"
    }
   },
   "outputs": [],
   "source": [
    "evals"
   ]
  },
  {
   "cell_type": "code",
   "execution_count": null,
   "metadata": {},
   "outputs": [],
   "source": []
  }
 ],
 "metadata": {
  "kernelspec": {
   "display_name": "Python 3",
   "language": "python",
   "name": "python3"
  },
  "language_info": {
   "codemirror_mode": {
    "name": "ipython",
    "version": 3
   },
   "file_extension": ".py",
   "mimetype": "text/x-python",
   "name": "python",
   "nbconvert_exporter": "python",
   "pygments_lexer": "ipython3",
   "version": "3.6.12"
  }
 },
 "nbformat": 4,
 "nbformat_minor": 5
}
