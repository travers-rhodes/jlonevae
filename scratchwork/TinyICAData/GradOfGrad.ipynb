{
 "cells": [
  {
   "cell_type": "code",
   "execution_count": 1,
   "metadata": {
    "ExecuteTime": {
     "end_time": "2021-06-24T18:23:18.315746Z",
     "start_time": "2021-06-24T18:23:17.895507Z"
    }
   },
   "outputs": [],
   "source": [
    "import torch"
   ]
  },
  {
   "cell_type": "code",
   "execution_count": 12,
   "metadata": {
    "ExecuteTime": {
     "end_time": "2021-06-24T18:27:24.795518Z",
     "start_time": "2021-06-24T18:27:24.788919Z"
    }
   },
   "outputs": [
    {
     "name": "stdout",
     "output_type": "stream",
     "text": [
      "tensor([6.], grad_fn=<CopyBackwards>)\n",
      "tensor([6.], grad_fn=<CopyBackwards>)\n"
     ]
    }
   ],
   "source": [
    "a = torch.tensor([3.], requires_grad=True)\n",
    "loss = a**2\n",
    "loss.backward(create_graph=True)\n",
    "print(a.grad)\n",
    "lossloss = a.grad\n",
    "print(a.grad)\n",
    "a.grad.data.zero_()\n",
    "lossloss.backward();"
   ]
  },
  {
   "cell_type": "code",
   "execution_count": 13,
   "metadata": {
    "ExecuteTime": {
     "end_time": "2021-06-24T18:27:25.097703Z",
     "start_time": "2021-06-24T18:27:25.087487Z"
    }
   },
   "outputs": [
    {
     "data": {
      "text/plain": [
       "tensor([2.], grad_fn=<CopyBackwards>)"
      ]
     },
     "execution_count": 13,
     "metadata": {},
     "output_type": "execute_result"
    }
   ],
   "source": [
    "a.grad"
   ]
  },
  {
   "cell_type": "code",
   "execution_count": null,
   "metadata": {},
   "outputs": [],
   "source": []
  }
 ],
 "metadata": {
  "kernelspec": {
   "display_name": "Python 3",
   "language": "python",
   "name": "python3"
  },
  "language_info": {
   "codemirror_mode": {
    "name": "ipython",
    "version": 3
   },
   "file_extension": ".py",
   "mimetype": "text/x-python",
   "name": "python",
   "nbconvert_exporter": "python",
   "pygments_lexer": "ipython3",
   "version": "3.6.12"
  }
 },
 "nbformat": 4,
 "nbformat_minor": 4
}
