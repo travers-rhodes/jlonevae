{
 "cells": [
  {
   "cell_type": "code",
   "execution_count": 1,
   "id": "298f4d53",
   "metadata": {
    "ExecuteTime": {
     "end_time": "2021-12-02T03:04:13.663214Z",
     "start_time": "2021-12-02T03:04:13.078135Z"
    }
   },
   "outputs": [],
   "source": [
    "%matplotlib inline\n",
    "import numpy as np\n",
    "import matplotlib.pyplot as plt\n",
    "import torch\n",
    "import cv2\n",
    "import glob\n",
    "\n",
    "import sys\n",
    "sys.path.append(\"../../\") # include parent dir\n",
    "\n",
    "from jlonevae_lib.architecture.load_model import load_model\n",
    "import jlonevae_lib.architecture.vae_jacobian as vj"
   ]
  },
  {
   "cell_type": "code",
   "execution_count": 2,
   "id": "8ff4bda2",
   "metadata": {
    "ExecuteTime": {
     "end_time": "2021-12-02T03:06:10.865730Z",
     "start_time": "2021-12-02T03:04:13.669055Z"
    }
   },
   "outputs": [],
   "source": [
    "# see dataset formatting instructions\n",
    "# at https://github.com/rr-learning/disentanglement_dataset\n",
    "rawdata = np.load(\"../../data/mpi3d_real/mpi3d_real.npz\")['images']"
   ]
  },
  {
   "cell_type": "code",
   "execution_count": 3,
   "id": "50e63725",
   "metadata": {
    "ExecuteTime": {
     "end_time": "2021-12-02T03:06:11.005936Z",
     "start_time": "2021-12-02T03:06:10.958647Z"
    }
   },
   "outputs": [
    {
     "data": {
      "text/plain": [
       "(1036800, 64, 64, 3)"
      ]
     },
     "execution_count": 3,
     "metadata": {},
     "output_type": "execute_result"
    }
   ],
   "source": [
    "rawdata.shape"
   ]
  },
  {
   "cell_type": "code",
   "execution_count": 4,
   "id": "a8f7f27f",
   "metadata": {
    "ExecuteTime": {
     "end_time": "2021-12-02T03:06:11.041240Z",
     "start_time": "2021-12-02T03:06:11.008765Z"
    }
   },
   "outputs": [],
   "source": [
    "#inds has four rows, each row has a list of data indices for images to use\n",
    "# shape is 4 by num, and the values are all between 0 and 1036800-1\n",
    "def get_multi_data(allinds):\n",
    "    inner_imgs = []\n",
    "    for quartinds in allinds:\n",
    "        inner_imgs.append(rawdata[quartinds][:,0:64:2,0:64:2,:] / 255.)\n",
    "    # combine all 4 sampled images into one image\n",
    "    # index 0 of inner_imgs is image sample number\n",
    "    #print(inner_imgs[0].shape)\n",
    "    return np.concatenate((\n",
    "                 np.concatenate((inner_imgs[0],inner_imgs[1]),axis=1),\n",
    "                 np.concatenate((inner_imgs[2],inner_imgs[3]),axis=1)), axis=2).transpose(0,3,1,2)"
   ]
  },
  {
   "cell_type": "code",
   "execution_count": 5,
   "id": "d0fcd975",
   "metadata": {
    "ExecuteTime": {
     "end_time": "2021-12-02T03:06:11.053696Z",
     "start_time": "2021-12-02T03:06:11.042842Z"
    }
   },
   "outputs": [],
   "source": [
    "def get_data(all_factors=None):\n",
    "    factor_sizes = [6, 6, 2, 3, 3, 40, 40]\n",
    "    factor_bases = np.prod(factor_sizes) / np.cumprod(\n",
    "            factor_sizes)\n",
    "    if all_factors is None:\n",
    "        all_factors = np.random.randint(40,size=(4,7))\n",
    "        all_factors[:,0] = 3\n",
    "        all_factors[:,1] = 1\n",
    "        all_factors[:,2] = 1 \n",
    "        all_factors[:,3] = 0 \n",
    "        all_factors[:,4] = 2 \n",
    "    allinds = np.array(np.dot(all_factors, factor_bases), dtype=np.int64).reshape([4,1])\n",
    "    imgs = get_multi_data(allinds)\n",
    "    return imgs"
   ]
  },
  {
   "cell_type": "code",
   "execution_count": 6,
   "id": "f58896bb",
   "metadata": {
    "ExecuteTime": {
     "end_time": "2021-12-02T03:06:11.610246Z",
     "start_time": "2021-12-02T03:06:11.055408Z"
    },
    "scrolled": true
   },
   "outputs": [
    {
     "data": {
      "text/plain": [
       "<matplotlib.image.AxesImage at 0x7f34e622db00>"
      ]
     },
     "execution_count": 6,
     "metadata": {},
     "output_type": "execute_result"
    },
    {
     "data": {
      "image/png": "[encoded data removed]",
      "text/plain": [
       "<Figure size 432x288 with 1 Axes>"
      ]
     },
     "metadata": {
      "needs_background": "light"
     },
     "output_type": "display_data"
    }
   ],
   "source": [
    "# I forgot to save the initial seeds, so I've reverse-engineered them by trial and error\n",
    "all_factors = np.zeros((4,7))\n",
    "all_factors[:,0] = 3\n",
    "all_factors[:,1] = 1\n",
    "all_factors[:,2] = 1 \n",
    "all_factors[:,3] = 0 \n",
    "all_factors[:,4] = 2\n",
    "all_factors[0,5:7] = [13,0] # 13,0\n",
    "all_factors[1,5:7] = [22,10] # 22,10\n",
    "all_factors[2,5:7] = [16,3] # 16,3\n",
    "all_factors[3,5:7] = [6,32] # 6,32\n",
    "plt.imshow(get_data(all_factors)[0].transpose(1,2,0))"
   ]
  },
  {
   "cell_type": "code",
   "execution_count": 8,
   "id": "d94c037e",
   "metadata": {
    "ExecuteTime": {
     "end_time": "2021-12-02T03:09:41.375264Z",
     "start_time": "2021-12-02T03:09:41.275025Z"
    }
   },
   "outputs": [],
   "source": [
    "# now I'm way over-eager about remembering random seeds. I ran this twice and got the vals below\n",
    "#all_factors = np.random.randint(40,size=(4,7))\n",
    "#all_factors[:,0] = 3\n",
    "#all_factors[:,1] = 1\n",
    "#all_factors[:,2] = 1 \n",
    "#all_factors[:,3] = 0 \n",
    "#all_factors[:,4] = 2 \n",
    "#print(all_factors)\n",
    "example_data_1 = np.array([[ 3,  1,  1,  0,  2, 34, 36],\n",
    "                           [ 3,  1,  1,  0,  2, 14,  8],\n",
    "                           [ 3,  1,  1,  0,  2,  4, 15],\n",
    "                           [ 3,  1,  1,  0,  2, 19, 26]])\n",
    "example_data_2 = np.array([[ 3,  1,  1,  0,  2,  7, 37],\n",
    "                           [ 3,  1,  1,  0,  2, 27, 39],\n",
    "                           [ 3,  1,  1,  0,  2, 14, 15],\n",
    "                           [ 3,  1,  1,  0,  2, 35,  1]])\n",
    "\n",
    "# save two more example images (for poster)\n",
    "outputdir = \"./mpi3dMultiJacobians/\"\n",
    "cv2.imwrite(outputdir+\"Mpi3dMulti-ExampleImage1.png\", (get_data(example_data_1)[0].transpose(1,2,0)*255)[:,:,(2,1,0)]);\n",
    "cv2.imwrite(outputdir+\"Mpi3dMulti-ExampleImage2.png\", (get_data(example_data_2)[0].transpose(1,2,0)*255)[:,:,(2,1,0)]);"
   ]
  },
  {
   "cell_type": "markdown",
   "id": "d26238b6",
   "metadata": {},
   "source": [
    "# Embed into model"
   ]
  },
  {
   "cell_type": "code",
   "execution_count": null,
   "id": "55a6d7cd",
   "metadata": {
    "ExecuteTime": {
     "end_time": "2021-12-02T03:06:12.300407Z",
     "start_time": "2021-12-02T03:04:13.092Z"
    }
   },
   "outputs": [],
   "source": [
    "combinedOutputs = \"trainedMPI3DModels/trainedModels\""
   ]
  },
  {
   "cell_type": "code",
   "execution_count": null,
   "id": "740b6a5b",
   "metadata": {
    "ExecuteTime": {
     "end_time": "2021-10-25T19:31:27.883238Z",
     "start_time": "2021-10-25T19:31:27.410813Z"
    }
   },
   "outputs": [],
   "source": []
  },
  {
   "cell_type": "code",
   "execution_count": null,
   "id": "f269dc6e",
   "metadata": {
    "ExecuteTime": {
     "end_time": "2021-12-02T03:06:12.302187Z",
     "start_time": "2021-12-02T03:04:13.095Z"
    }
   },
   "outputs": [],
   "source": [
    "device=\"cpu\"\n",
    "def get_model_and_enc(gammastring, data, timestamp=\"*\"):\n",
    "    matching_model_paths = glob.glob(f\"../../{combinedOutputs}/defaultConv_lone_beta0_0100_ica{gammastring}_lat10_batch64_lr0_0001_anneal100000/{timestamp}/representation/cache_batch_no300000\")\n",
    "    model_path = matching_model_paths[0]\n",
    "    print(model_path)\n",
    "    model = load_model(model_path,device).double();\n",
    "    encoding, logvar = model.encode(torch.tensor(data).double().to(device));\n",
    "    return model, encoding"
   ]
  },
  {
   "cell_type": "markdown",
   "id": "8c0f8f33",
   "metadata": {
    "ExecuteTime": {
     "end_time": "2021-04-21T15:39:00.367894Z",
     "start_time": "2021-04-21T15:39:00.356332Z"
    }
   },
   "source": [
    "# Find the most active columns and plot them "
   ]
  },
  {
   "cell_type": "code",
   "execution_count": null,
   "id": "30f7f0e9",
   "metadata": {
    "ExecuteTime": {
     "end_time": "2021-12-02T03:06:12.303509Z",
     "start_time": "2021-12-02T03:04:13.097Z"
    }
   },
   "outputs": [],
   "source": [
    "outputdir = \"./mpi3dMultiJacobians/\"\n",
    "from pathlib import Path\n",
    "Path.mkdir(Path(outputdir), exist_ok=True)"
   ]
  },
  {
   "cell_type": "code",
   "execution_count": null,
   "id": "a7460f77",
   "metadata": {
    "ExecuteTime": {
     "end_time": "2021-12-02T03:06:12.304826Z",
     "start_time": "2021-12-02T03:04:13.100Z"
    },
    "scrolled": false
   },
   "outputs": [],
   "source": [
    "data = get_data(all_factors)\n",
    "for gammastring, timestamp in ((\"0_0100\",\"20210528-025815\"), (\"0_0000\", \"20210527-235110\")):\n",
    "    model, encoding = get_model_and_enc(gammastring,data, timestamp)\n",
    "    rec = model.decode(torch.tensor(encoding).double().to(device))\n",
    "    rec = rec.detach().cpu().numpy()[0].transpose(1,2,0)\n",
    "    plt.imshow(data[0].transpose(1,2,0));plt.show();plt.close();\n",
    "    # convert RGB to BGR and scale to 0-255\n",
    "    cv2.imwrite(outputdir+\"Mpi3dMulti-ExampleImage.png\", (data[0].transpose(1,2,0)*255)[:,:,(2,1,0)]);\n",
    "    plt.imshow(rec);plt.show();plt.close();\n",
    "    cv2.imwrite(outputdir+f\"Mpi3dMulti-ReconImageGamma{gammastring}.png\", (rec*255)[:,:,(2,1,0)]);\n",
    "    # contrast adjustment for jacobian\n",
    "    scale = 5\n",
    "    jacs = vj.compute_generator_jacobian_analytic(model, encoding, device=device,\n",
    "                                        im_channels=3)#.detach().cpu().numpy()\n",
    "    activities = [np.sum(np.square(jac)) for jac in jacs]\n",
    "    top_jac_inds = np.flip(np.argsort(activities))\n",
    "    gsc = np.std(np.abs(jacs))\n",
    "    for q, ind in enumerate(top_jac_inds):\n",
    "        print(jacs[ind].squeeze().shape)\n",
    "        added_constrast_jac = jacs[ind,0].transpose(1,2,0) /gsc * 0.1\n",
    "        added_constrast_jac = np.abs(added_constrast_jac)\n",
    "        plt.imshow(added_constrast_jac);plt.show();plt.close();\n",
    "        print(np.min(added_constrast_jac), np.max(added_constrast_jac))\n",
    "        cv2.imwrite(outputdir+\"Mpi3dMulti-JacGamma%sLatent%d.png\" %(gammastring,q), 255*added_constrast_jac[:,:,(2,1,0)]);"
   ]
  },
  {
   "cell_type": "code",
   "execution_count": null,
   "id": "2b4012d1",
   "metadata": {},
   "outputs": [],
   "source": []
  }
 ],
 "metadata": {
  "kernelspec": {
   "display_name": "Python 3",
   "language": "python",
   "name": "python3"
  },
  "language_info": {
   "codemirror_mode": {
    "name": "ipython",
    "version": 3
   },
   "file_extension": ".py",
   "mimetype": "text/x-python",
   "name": "python",
   "nbconvert_exporter": "python",
   "pygments_lexer": "ipython3",
   "version": "3.6.12"
  }
 },
 "nbformat": 4,
 "nbformat_minor": 5
}
