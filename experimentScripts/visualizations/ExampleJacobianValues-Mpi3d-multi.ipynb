{
 "cells": [
  {
   "cell_type": "code",
   "execution_count": 1,
   "id": "ca1ea617",
   "metadata": {
    "ExecuteTime": {
     "end_time": "2021-06-02T03:16:20.544678Z",
     "start_time": "2021-06-02T03:16:19.984334Z"
    }
   },
   "outputs": [],
   "source": [
    "%matplotlib inline\n",
    "import numpy as np\n",
    "import matplotlib.pyplot as plt\n",
    "import torch\n",
    "import cv2\n",
    "import glob\n",
    "\n",
    "import sys\n",
    "sys.path.append(\"../../\") # include parent dir\n",
    "\n",
    "from jlonevae_lib.architecture.load_model import load_model\n",
    "import jlonevae_lib.architecture.vae_jacobian as vj"
   ]
  },
  {
   "cell_type": "code",
   "execution_count": 4,
   "id": "d999a9fc",
   "metadata": {
    "ExecuteTime": {
     "end_time": "2021-06-02T03:17:59.462921Z",
     "start_time": "2021-06-02T03:16:43.940696Z"
    }
   },
   "outputs": [],
   "source": [
    "# see dataset formatting instructions\n",
    "# at https://github.com/rr-learning/disentanglement_dataset\n",
    "rawdata = np.load(\"../../data/mpi3d_real/mpi3d_real.npz\")['images']"
   ]
  },
  {
   "cell_type": "code",
   "execution_count": 5,
   "id": "6087ca56",
   "metadata": {
    "ExecuteTime": {
     "end_time": "2021-06-02T03:17:59.474648Z",
     "start_time": "2021-06-02T03:17:59.467879Z"
    }
   },
   "outputs": [
    {
     "data": {
      "text/plain": [
       "(1036800, 64, 64, 3)"
      ]
     },
     "execution_count": 5,
     "metadata": {},
     "output_type": "execute_result"
    }
   ],
   "source": [
    "rawdata.shape"
   ]
  },
  {
   "cell_type": "code",
   "execution_count": 6,
   "id": "1e2df29e",
   "metadata": {
    "ExecuteTime": {
     "end_time": "2021-06-02T03:17:59.494808Z",
     "start_time": "2021-06-02T03:17:59.477362Z"
    }
   },
   "outputs": [],
   "source": [
    "#inds has four rows, each row has a list of data indices for images to use\n",
    "# shape is 4 by num, and the values are all between 0 and 1036800-1\n",
    "def get_multi_data(allinds):\n",
    "    inner_imgs = []\n",
    "    for quartinds in allinds:\n",
    "        inner_imgs.append(rawdata[quartinds][:,0:64:2,0:64:2,:] / 255.)\n",
    "    # combine all 4 sampled images into one image\n",
    "    # index 0 of inner_imgs is image sample number\n",
    "    #print(inner_imgs[0].shape)\n",
    "    return np.concatenate((\n",
    "                 np.concatenate((inner_imgs[0],inner_imgs[1]),axis=1),\n",
    "                 np.concatenate((inner_imgs[2],inner_imgs[3]),axis=1)), axis=2).transpose(0,3,1,2)"
   ]
  },
  {
   "cell_type": "code",
   "execution_count": 7,
   "id": "7890bb47",
   "metadata": {
    "ExecuteTime": {
     "end_time": "2021-06-02T03:19:45.747774Z",
     "start_time": "2021-06-02T03:19:45.723377Z"
    }
   },
   "outputs": [],
   "source": [
    "def get_data():\n",
    "    factor_sizes = [6, 6, 2, 3, 3, 40, 40]\n",
    "    factor_bases = np.prod(factor_sizes) / np.cumprod(\n",
    "            factor_sizes)\n",
    "    all_factors = np.random.randint(40,size=(4,7))\n",
    "    all_factors[:,0] = 3\n",
    "    all_factors[:,1] = 1\n",
    "    all_factors[:,2] = 1 \n",
    "    all_factors[:,3] = 0 \n",
    "    all_factors[:,4] = 2 \n",
    "    allinds = np.array(np.dot(all_factors, factor_bases), dtype=np.int64).reshape([4,1])\n",
    "    imgs = get_multi_data(allinds)\n",
    "    return imgs"
   ]
  },
  {
   "cell_type": "code",
   "execution_count": 8,
   "id": "b27db56f",
   "metadata": {
    "ExecuteTime": {
     "end_time": "2021-06-02T03:19:47.044550Z",
     "start_time": "2021-06-02T03:19:46.799821Z"
    }
   },
   "outputs": [
    {
     "data": {
      "text/plain": [
       "<matplotlib.image.AxesImage at 0x7fea810be550>"
      ]
     },
     "execution_count": 8,
     "metadata": {},
     "output_type": "execute_result"
    },
    {
     "data": {
      "image/png": "[encoded data removed]",
      "text/plain": [
       "<Figure size 432x288 with 1 Axes>"
      ]
     },
     "metadata": {
      "needs_background": "light"
     },
     "output_type": "display_data"
    }
   ],
   "source": [
    "plt.imshow(get_data()[0].transpose(1,2,0))"
   ]
  },
  {
   "cell_type": "markdown",
   "id": "6e6c9999",
   "metadata": {},
   "source": [
    "# Embed into model"
   ]
  },
  {
   "cell_type": "code",
   "execution_count": 9,
   "id": "e6b8ff69",
   "metadata": {
    "ExecuteTime": {
     "end_time": "2021-06-02T03:19:49.859076Z",
     "start_time": "2021-06-02T03:19:49.855696Z"
    }
   },
   "outputs": [],
   "source": [
    "combinedOutputs = \"trainedModels\""
   ]
  },
  {
   "cell_type": "code",
   "execution_count": 10,
   "id": "846cf04d",
   "metadata": {
    "ExecuteTime": {
     "end_time": "2021-06-02T03:19:52.377915Z",
     "start_time": "2021-06-02T03:19:52.371141Z"
    }
   },
   "outputs": [],
   "source": [
    "device=\"cuda\"\n",
    "def get_model_and_enc(gammastring, data, timestamp=\"*\"):\n",
    "    base_locs = np.array([[32/64., 16/64.],[48/64,32/64.],[16/64.,48/64.]])\n",
    "    matching_model_paths = glob.glob(f\"../{combinedOutputs}/defaultConv_lone_beta0_0100_ica{gammastring}_lat10_batch64_lr0_0001_anneal100000/{timestamp}/representation/cache_batch_no300000\")\n",
    "    model_path = matching_model_paths[0]\n",
    "\n",
    "    model = load_model(model_path,device).double();\n",
    "    encoding, logvar = model.encode(torch.tensor(data).double().to(device));\n",
    "    return model, encoding"
   ]
  },
  {
   "cell_type": "markdown",
   "id": "5e3f228b",
   "metadata": {
    "ExecuteTime": {
     "end_time": "2021-04-21T15:39:00.367894Z",
     "start_time": "2021-04-21T15:39:00.356332Z"
    }
   },
   "source": [
    "# Find the most active columns and plot them "
   ]
  },
  {
   "cell_type": "code",
   "execution_count": 11,
   "id": "22d7babf",
   "metadata": {
    "ExecuteTime": {
     "end_time": "2021-06-02T03:19:53.886515Z",
     "start_time": "2021-06-02T03:19:53.882749Z"
    }
   },
   "outputs": [],
   "source": [
    "outputdir = \"./mpi3dMultiJacobians/\"\n",
    "from pathlib import Path\n",
    "Path.mkdir(Path(outputdir), exist_ok=True)"
   ]
  },
  {
   "cell_type": "code",
   "execution_count": 12,
   "id": "dc9f4407",
   "metadata": {
    "ExecuteTime": {
     "end_time": "2021-06-02T03:19:54.887922Z",
     "start_time": "2021-06-02T03:19:54.843228Z"
    },
    "scrolled": false
   },
   "outputs": [
    {
     "ename": "IndexError",
     "evalue": "list index out of range",
     "output_type": "error",
     "traceback": [
      "\u001b[0;31m---------------------------------------------------------------------------\u001b[0m",
      "\u001b[0;31mIndexError\u001b[0m                                Traceback (most recent call last)",
      "\u001b[0;32m<ipython-input-12-a5348c258935>\u001b[0m in \u001b[0;36m<module>\u001b[0;34m\u001b[0m\n\u001b[1;32m      1\u001b[0m \u001b[0mdata\u001b[0m \u001b[0;34m=\u001b[0m \u001b[0mget_data\u001b[0m\u001b[0;34m(\u001b[0m\u001b[0;34m)\u001b[0m\u001b[0;34m\u001b[0m\u001b[0;34m\u001b[0m\u001b[0m\n\u001b[1;32m      2\u001b[0m \u001b[0;32mfor\u001b[0m \u001b[0mgammastring\u001b[0m \u001b[0;32min\u001b[0m \u001b[0;34m(\u001b[0m\u001b[0;34m\"0_0100\"\u001b[0m\u001b[0;34m,\u001b[0m \u001b[0;34m\"0_0000\"\u001b[0m\u001b[0;34m)\u001b[0m\u001b[0;34m:\u001b[0m\u001b[0;34m\u001b[0m\u001b[0;34m\u001b[0m\u001b[0m\n\u001b[0;32m----> 3\u001b[0;31m     \u001b[0mmodel\u001b[0m\u001b[0;34m,\u001b[0m \u001b[0mencoding\u001b[0m \u001b[0;34m=\u001b[0m \u001b[0mget_model_and_enc\u001b[0m\u001b[0;34m(\u001b[0m\u001b[0mgammastring\u001b[0m\u001b[0;34m,\u001b[0m\u001b[0mdata\u001b[0m\u001b[0;34m)\u001b[0m\u001b[0;34m\u001b[0m\u001b[0;34m\u001b[0m\u001b[0m\n\u001b[0m\u001b[1;32m      4\u001b[0m     \u001b[0mrec\u001b[0m \u001b[0;34m=\u001b[0m \u001b[0mmodel\u001b[0m\u001b[0;34m.\u001b[0m\u001b[0mdecode\u001b[0m\u001b[0;34m(\u001b[0m\u001b[0mtorch\u001b[0m\u001b[0;34m.\u001b[0m\u001b[0mtensor\u001b[0m\u001b[0;34m(\u001b[0m\u001b[0mencoding\u001b[0m\u001b[0;34m)\u001b[0m\u001b[0;34m.\u001b[0m\u001b[0mdouble\u001b[0m\u001b[0;34m(\u001b[0m\u001b[0;34m)\u001b[0m\u001b[0;34m.\u001b[0m\u001b[0mto\u001b[0m\u001b[0;34m(\u001b[0m\u001b[0mdevice\u001b[0m\u001b[0;34m)\u001b[0m\u001b[0;34m)\u001b[0m\u001b[0;34m\u001b[0m\u001b[0;34m\u001b[0m\u001b[0m\n\u001b[1;32m      5\u001b[0m     \u001b[0mrec\u001b[0m \u001b[0;34m=\u001b[0m \u001b[0mrec\u001b[0m\u001b[0;34m.\u001b[0m\u001b[0mdetach\u001b[0m\u001b[0;34m(\u001b[0m\u001b[0;34m)\u001b[0m\u001b[0;34m.\u001b[0m\u001b[0mcpu\u001b[0m\u001b[0;34m(\u001b[0m\u001b[0;34m)\u001b[0m\u001b[0;34m.\u001b[0m\u001b[0mnumpy\u001b[0m\u001b[0;34m(\u001b[0m\u001b[0;34m)\u001b[0m\u001b[0;34m[\u001b[0m\u001b[0;36m0\u001b[0m\u001b[0;34m]\u001b[0m\u001b[0;34m.\u001b[0m\u001b[0mtranspose\u001b[0m\u001b[0;34m(\u001b[0m\u001b[0;36m1\u001b[0m\u001b[0;34m,\u001b[0m\u001b[0;36m2\u001b[0m\u001b[0;34m,\u001b[0m\u001b[0;36m0\u001b[0m\u001b[0;34m)\u001b[0m\u001b[0;34m\u001b[0m\u001b[0;34m\u001b[0m\u001b[0m\n",
      "\u001b[0;32m<ipython-input-10-0942ba6a72f9>\u001b[0m in \u001b[0;36mget_model_and_enc\u001b[0;34m(gammastring, data, timestamp)\u001b[0m\n\u001b[1;32m      3\u001b[0m     \u001b[0mbase_locs\u001b[0m \u001b[0;34m=\u001b[0m \u001b[0mnp\u001b[0m\u001b[0;34m.\u001b[0m\u001b[0marray\u001b[0m\u001b[0;34m(\u001b[0m\u001b[0;34m[\u001b[0m\u001b[0;34m[\u001b[0m\u001b[0;36m32\u001b[0m\u001b[0;34m/\u001b[0m\u001b[0;36m64.\u001b[0m\u001b[0;34m,\u001b[0m \u001b[0;36m16\u001b[0m\u001b[0;34m/\u001b[0m\u001b[0;36m64.\u001b[0m\u001b[0;34m]\u001b[0m\u001b[0;34m,\u001b[0m\u001b[0;34m[\u001b[0m\u001b[0;36m48\u001b[0m\u001b[0;34m/\u001b[0m\u001b[0;36m64\u001b[0m\u001b[0;34m,\u001b[0m\u001b[0;36m32\u001b[0m\u001b[0;34m/\u001b[0m\u001b[0;36m64.\u001b[0m\u001b[0;34m]\u001b[0m\u001b[0;34m,\u001b[0m\u001b[0;34m[\u001b[0m\u001b[0;36m16\u001b[0m\u001b[0;34m/\u001b[0m\u001b[0;36m64.\u001b[0m\u001b[0;34m,\u001b[0m\u001b[0;36m48\u001b[0m\u001b[0;34m/\u001b[0m\u001b[0;36m64.\u001b[0m\u001b[0;34m]\u001b[0m\u001b[0;34m]\u001b[0m\u001b[0;34m)\u001b[0m\u001b[0;34m\u001b[0m\u001b[0;34m\u001b[0m\u001b[0m\n\u001b[1;32m      4\u001b[0m     model_path = glob.glob(f\"../{combinedOutputs}/defaultConv_lone_beta0_0100_ica{gammastring}_lat10_batch64_lr0_0001_anneal100000/{timestamp}/representation/cache_batch_no300000\"\n\u001b[0;32m----> 5\u001b[0;31m                                                   )[0]\n\u001b[0m\u001b[1;32m      6\u001b[0m \u001b[0;34m\u001b[0m\u001b[0m\n\u001b[1;32m      7\u001b[0m     \u001b[0mmodel\u001b[0m \u001b[0;34m=\u001b[0m \u001b[0mload_model\u001b[0m\u001b[0;34m(\u001b[0m\u001b[0mmodel_path\u001b[0m\u001b[0;34m,\u001b[0m\u001b[0mdevice\u001b[0m\u001b[0;34m)\u001b[0m\u001b[0;34m.\u001b[0m\u001b[0mdouble\u001b[0m\u001b[0;34m(\u001b[0m\u001b[0;34m)\u001b[0m\u001b[0;34m;\u001b[0m\u001b[0;34m\u001b[0m\u001b[0;34m\u001b[0m\u001b[0m\n",
      "\u001b[0;31mIndexError\u001b[0m: list index out of range"
     ]
    }
   ],
   "source": [
    "data = get_data()\n",
    "for gammastring in (\"0_0100\", \"0_0000\"):\n",
    "    model, encoding = get_model_and_enc(gammastring,data)\n",
    "    rec = model.decode(torch.tensor(encoding).double().to(device))\n",
    "    rec = rec.detach().cpu().numpy()[0].transpose(1,2,0)\n",
    "    plt.imshow(data[0].transpose(1,2,0));plt.show();plt.close();\n",
    "    # convert RGB to BGR and scale to 0-255\n",
    "    cv2.imwrite(outputdir+\"Mpi3dMulti-ExampleImage.png\", (data[0].transpose(1,2,0)*255)[:,:,(2,1,0)]);\n",
    "    plt.imshow(rec);plt.show();plt.close();\n",
    "    cv2.imwrite(outputdir+f\"Mpi3dMulti-ReconImageGamma{gammastring}.png\", (rec*255)[:,:,(2,1,0)]);\n",
    "    # contrast adjustment for jacobian\n",
    "    scale = 5\n",
    "    jacs = vj.compute_generator_jacobian_analytic(model, encoding, device=device,\n",
    "                                        im_channels=3)#.detach().cpu().numpy()\n",
    "    activities = [np.sum(np.square(jac)) for jac in jacs]\n",
    "    top_jac_inds = np.flip(np.argsort(activities))\n",
    "    gsc = np.std(np.abs(jacs))\n",
    "    for q, ind in enumerate(top_jac_inds):\n",
    "        print(jacs[ind].squeeze().shape)\n",
    "        added_constrast_jac = jacs[ind,0].transpose(1,2,0) /gsc * 0.1\n",
    "        added_constrast_jac = np.abs(added_constrast_jac)\n",
    "        plt.imshow(added_constrast_jac);plt.show();plt.close();\n",
    "        print(np.min(added_constrast_jac), np.max(added_constrast_jac))\n",
    "        cv2.imwrite(outputdir+\"Mpi3dMulti-JacGamma%sLatent%d.png\" %(gammastring,q), 255*added_constrast_jac[:,:,(2,1,0)]);"
   ]
  },
  {
   "cell_type": "code",
   "execution_count": null,
   "id": "da175932",
   "metadata": {},
   "outputs": [],
   "source": []
  }
 ],
 "metadata": {
  "kernelspec": {
   "display_name": "Python 3",
   "language": "python",
   "name": "python3"
  },
  "language_info": {
   "codemirror_mode": {
    "name": "ipython",
    "version": 3
   },
   "file_extension": ".py",
   "mimetype": "text/x-python",
   "name": "python",
   "nbconvert_exporter": "python",
   "pygments_lexer": "ipython3",
   "version": "3.6.12"
  }
 },
 "nbformat": 4,
 "nbformat_minor": 5
}
