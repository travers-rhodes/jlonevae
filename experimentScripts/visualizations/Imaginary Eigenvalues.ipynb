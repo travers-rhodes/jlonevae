{
 "cells": [
  {
   "cell_type": "code",
   "execution_count": 39,
   "metadata": {
    "ExecuteTime": {
     "end_time": "2021-06-16T23:28:37.831526Z",
     "start_time": "2021-06-16T23:28:37.827068Z"
    }
   },
   "outputs": [],
   "source": [
    "import numpy as np\n",
    "np.set_printoptions(precision=3)"
   ]
  },
  {
   "cell_type": "code",
   "execution_count": 45,
   "metadata": {
    "ExecuteTime": {
     "end_time": "2021-06-16T23:31:03.441210Z",
     "start_time": "2021-06-16T23:31:03.435287Z"
    }
   },
   "outputs": [],
   "source": [
    "A = np.zeros((4,4))\n",
    "for i in range(4):\n",
    "    A[i,i] = 1\n",
    "for i in range(3):\n",
    "    A[i,i+1] = 1\n",
    "w,v = np.linalg.eig(A)"
   ]
  },
  {
   "cell_type": "code",
   "execution_count": 47,
   "metadata": {
    "ExecuteTime": {
     "end_time": "2021-06-16T23:31:08.767193Z",
     "start_time": "2021-06-16T23:31:08.764049Z"
    }
   },
   "outputs": [
    {
     "data": {
      "text/plain": [
       "array([[1., 1., 0., 0.],\n",
       "       [0., 1., 1., 0.],\n",
       "       [0., 0., 1., 1.],\n",
       "       [0., 0., 0., 1.]])"
      ]
     },
     "execution_count": 47,
     "metadata": {},
     "output_type": "execute_result"
    }
   ],
   "source": [
    "A"
   ]
  },
  {
   "cell_type": "code",
   "execution_count": 50,
   "metadata": {
    "ExecuteTime": {
     "end_time": "2021-06-16T23:31:47.080179Z",
     "start_time": "2021-06-16T23:31:47.074852Z"
    }
   },
   "outputs": [
    {
     "data": {
      "text/plain": [
       "array([[ 1.000e+00, -1.000e+00,  1.000e+00, -1.000e+00],\n",
       "       [ 0.000e+00,  2.220e-16, -2.220e-16,  2.220e-16],\n",
       "       [ 0.000e+00,  0.000e+00,  4.930e-32, -4.930e-32],\n",
       "       [ 0.000e+00,  0.000e+00,  0.000e+00,  1.095e-47]])"
      ]
     },
     "execution_count": 50,
     "metadata": {},
     "output_type": "execute_result"
    }
   ],
   "source": [
    "v"
   ]
  },
  {
   "cell_type": "code",
   "execution_count": 51,
   "metadata": {
    "ExecuteTime": {
     "end_time": "2021-06-16T23:31:47.759353Z",
     "start_time": "2021-06-16T23:31:47.748904Z"
    }
   },
   "outputs": [
    {
     "data": {
      "text/plain": [
       "array([[ 1.000e+00, -1.000e+00,  1.000e+00, -1.000e+00],\n",
       "       [ 0.000e+00,  2.220e-16, -2.220e-16,  2.220e-16],\n",
       "       [ 0.000e+00,  0.000e+00,  4.930e-32, -4.930e-32],\n",
       "       [ 0.000e+00,  0.000e+00,  0.000e+00,  1.095e-47]])"
      ]
     },
     "execution_count": 51,
     "metadata": {},
     "output_type": "execute_result"
    }
   ],
   "source": [
    "np.matmul(A,v)"
   ]
  },
  {
   "cell_type": "code",
   "execution_count": null,
   "metadata": {},
   "outputs": [],
   "source": []
  },
  {
   "cell_type": "code",
   "execution_count": 31,
   "metadata": {
    "ExecuteTime": {
     "end_time": "2021-06-15T22:13:04.571093Z",
     "start_time": "2021-06-15T22:13:04.568143Z"
    }
   },
   "outputs": [],
   "source": [
    "theta = 0.4\n",
    "A = np.array([[np.cos(theta),-np.sin(theta)],[np.sin(theta),np.cos(theta)]])"
   ]
  },
  {
   "cell_type": "code",
   "execution_count": 32,
   "metadata": {
    "ExecuteTime": {
     "end_time": "2021-06-15T22:13:04.751773Z",
     "start_time": "2021-06-15T22:13:04.737938Z"
    }
   },
   "outputs": [
    {
     "name": "stdout",
     "output_type": "stream",
     "text": [
      "[1. 1.]\n",
      "[1. 1.]\n"
     ]
    }
   ],
   "source": [
    "_,s,_ = np.linalg.svd(A)\n",
    "s.sort()\n",
    "print(s)\n",
    "val,vec = np.linalg.eig(A.T.dot(A))\n",
    "#est = np.sqrt(val * np.conj(val))\n",
    "est = np.sqrt(val)\n",
    "est.sort()\n",
    "print(est)"
   ]
  },
  {
   "cell_type": "code",
   "execution_count": 35,
   "metadata": {
    "ExecuteTime": {
     "end_time": "2021-06-15T22:13:20.304584Z",
     "start_time": "2021-06-15T22:13:20.299796Z"
    }
   },
   "outputs": [
    {
     "name": "stdout",
     "output_type": "stream",
     "text": [
      "[[ 0.921 -0.389]\n",
      " [ 0.389  0.921]]\n"
     ]
    }
   ],
   "source": [
    "print(A)"
   ]
  },
  {
   "cell_type": "code",
   "execution_count": 34,
   "metadata": {
    "ExecuteTime": {
     "end_time": "2021-06-15T22:13:11.423509Z",
     "start_time": "2021-06-15T22:13:11.417545Z"
    }
   },
   "outputs": [
    {
     "name": "stdout",
     "output_type": "stream",
     "text": [
      "[0.921+0.389j 0.921-0.389j]\n",
      "[[0.707+0.j    0.707-0.j   ]\n",
      " [0.   -0.707j 0.   +0.707j]]\n"
     ]
    }
   ],
   "source": [
    "val,vec = np.linalg.eig(A)\n",
    "print(val)\n",
    "print(vec)"
   ]
  },
  {
   "cell_type": "code",
   "execution_count": 36,
   "metadata": {
    "ExecuteTime": {
     "end_time": "2021-06-15T22:14:12.379221Z",
     "start_time": "2021-06-15T22:14:12.325822Z"
    }
   },
   "outputs": [
    {
     "data": {
      "text/plain": [
       "array([[0.651+0.275j, 0.651-0.275j],\n",
       "       [0.275-0.651j, 0.275+0.651j]])"
      ]
     },
     "execution_count": 36,
     "metadata": {},
     "output_type": "execute_result"
    }
   ],
   "source": [
    "A.dot(vec)"
   ]
  },
  {
   "cell_type": "code",
   "execution_count": 38,
   "metadata": {
    "ExecuteTime": {
     "end_time": "2021-06-15T22:14:29.098093Z",
     "start_time": "2021-06-15T22:14:29.092544Z"
    }
   },
   "outputs": [
    {
     "data": {
      "text/plain": [
       "array([[0.651+0.275j, 0.651-0.275j],\n",
       "       [0.275-0.651j, 0.275+0.651j]])"
      ]
     },
     "execution_count": 38,
     "metadata": {},
     "output_type": "execute_result"
    }
   ],
   "source": [
    "val * vec"
   ]
  },
  {
   "cell_type": "code",
   "execution_count": null,
   "metadata": {},
   "outputs": [],
   "source": []
  }
 ],
 "metadata": {
  "kernelspec": {
   "display_name": "Python 3",
   "language": "python",
   "name": "python3"
  },
  "language_info": {
   "codemirror_mode": {
    "name": "ipython",
    "version": 3
   },
   "file_extension": ".py",
   "mimetype": "text/x-python",
   "name": "python",
   "nbconvert_exporter": "python",
   "pygments_lexer": "ipython3",
   "version": "3.6.12"
  }
 },
 "nbformat": 4,
 "nbformat_minor": 4
}
