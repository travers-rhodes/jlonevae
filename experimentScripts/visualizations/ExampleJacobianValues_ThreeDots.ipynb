{
 "cells": [
  {
   "cell_type": "code",
   "execution_count": null,
   "id": "cc2295a0",
   "metadata": {
    "ExecuteTime": {
     "end_time": "2021-06-02T19:00:01.023956Z",
     "start_time": "2021-06-02T19:00:01.004231Z"
    }
   },
   "outputs": [],
   "source": [
    "%matplotlib inline\n",
    "import numpy as np\n",
    "import matplotlib.pyplot as plt\n",
    "import torch\n",
    "import cv2\n",
    "import glob\n",
    "\n",
    "import sys\n",
    "sys.path.append(\"../..\") # include base dir\n",
    "\n",
    "from jlonevae_lib.architecture.load_model import load_model\n",
    "import jlonevae_lib.architecture.vae_jacobian as vj"
   ]
  },
  {
   "cell_type": "code",
   "execution_count": null,
   "id": "48b1a9f1",
   "metadata": {
    "ExecuteTime": {
     "end_time": "2021-06-02T19:00:01.207802Z",
     "start_time": "2021-06-02T19:00:01.188597Z"
    }
   },
   "outputs": [],
   "source": [
    "### COPYPASTA from disentanglement_lib/disentanglement_lib/data/ground_truth/threeDots.py\n",
    "### EASIER than trying to figure out how to import that file here\n",
    "\n",
    "# create an image with dots of the given radius (range 0 to 1)\n",
    "# placed at the given locations (shape: (N, 2)) in the range 0 to 1\n",
    "# the output image is shape (64, 64, 1)\n",
    "# with a black dot on a white background\n",
    "# and some gray colors on the border pixels\n",
    "# (the gray color is created by making a purely black circle on a 10x larger image\n",
    "# and then resizing the image smaller and averaging nearby pixels\n",
    "def draw_dots_to_image_array(radius, dot_centers):\n",
    "    num_object = dot_centers.shape[0]\n",
    "    im_side_len = 64\n",
    "    # in order to get nicely averaged/grayscale shape boundary\n",
    "    # we draw on a larger canvas and scale down\n",
    "    # Create a black image\n",
    "    upscale_image_factor = 10\n",
    "    precision_scale = 10\n",
    "    black = 0 \n",
    "    up_img = np.ones((im_side_len * upscale_image_factor,im_side_len *\n",
    "      upscale_image_factor,1))\n",
    "    up_radius = int(im_side_len * radius * upscale_image_factor * 2**precision_scale)\n",
    "    for i in range(num_object):\n",
    "        up_center = np.floor(im_side_len * dot_centers[i] * upscale_image_factor * 2**precision_scale).astype(int)\n",
    "        # negative thickness means filled circle\n",
    "        circle = cv2.circle(up_img, tuple(up_center), up_radius, color=black, thickness = -1, shift=precision_scale)\n",
    "    arr = cv2.resize(up_img, (im_side_len,im_side_len), interpolation=cv2.INTER_AREA)\n",
    "    return arr"
   ]
  },
  {
   "cell_type": "markdown",
   "id": "b7f6dbf6",
   "metadata": {},
   "source": [
    "# Embed into model"
   ]
  },
  {
   "cell_type": "code",
   "execution_count": null,
   "id": "64c36b1a",
   "metadata": {
    "ExecuteTime": {
     "end_time": "2021-06-02T19:00:01.794116Z",
     "start_time": "2021-06-02T19:00:01.784508Z"
    }
   },
   "outputs": [],
   "source": [
    "combinedOutputs = \"trainedModels\""
   ]
  },
  {
   "cell_type": "code",
   "execution_count": null,
   "id": "bc609f41",
   "metadata": {
    "ExecuteTime": {
     "end_time": "2021-06-02T19:13:04.995592Z",
     "start_time": "2021-06-02T19:13:04.988986Z"
    }
   },
   "outputs": [],
   "source": [
    "device=\"cuda\" if torch.cuda.is_available() else \"cpu\"\n",
    "def get_model_and_enc(gammastring, timestamp):\n",
    "    base_locs = np.array([[32/64., 16/64.],[48/64,32/64.],[16/64.,48/64.]])\n",
    "    test_data = np.array([[draw_dots_to_image_array(0.08, base_locs)]])\n",
    "    matching_model_paths = glob.glob(f\"../../{combinedOutputs}/defaultConv_lone_beta4_0000_ica{gammastring}_lat10_batch64_lr0_0001_anneal100000/{timestamp}/representation/cache_batch_no300000\")\n",
    "    print(\"using model %s\" % matching_model_paths)\n",
    "    model_path = matching_model_paths[0]\n",
    "\n",
    "    model = load_model(model_path,device).double();\n",
    "    encoding, logvar = model.encode(torch.tensor(test_data).double().to(device));\n",
    "    return model, encoding"
   ]
  },
  {
   "cell_type": "markdown",
   "id": "0733f7ad",
   "metadata": {
    "ExecuteTime": {
     "end_time": "2021-04-21T15:39:00.367894Z",
     "start_time": "2021-04-21T15:39:00.356332Z"
    }
   },
   "source": [
    "# Find the most active columns and plot them "
   ]
  },
  {
   "cell_type": "code",
   "execution_count": null,
   "id": "90b4494e",
   "metadata": {
    "ExecuteTime": {
     "end_time": "2021-06-02T19:13:05.980429Z",
     "start_time": "2021-06-02T19:13:05.976462Z"
    }
   },
   "outputs": [],
   "source": [
    "# contrast adjustment for jacobian\n",
    "scale = 20\n",
    "outputdir = \"./threeDotsJacobians/\"\n",
    "from pathlib import Path\n",
    "Path.mkdir(Path(outputdir), exist_ok=True)"
   ]
  },
  {
   "cell_type": "code",
   "execution_count": null,
   "id": "1df907f3",
   "metadata": {
    "ExecuteTime": {
     "end_time": "2021-06-02T19:13:37.275315Z",
     "start_time": "2021-06-02T19:13:08.400783Z"
    },
    "scrolled": false
   },
   "outputs": [],
   "source": [
    "# either switch these timestamps to * (to find any matchign run)\n",
    "# or update to a particular run. These timestamps are associated with the models used in the paper\n",
    "for gammastring, timestamp in [(\"0_1000\",\"20210525-080220\"),(\"0_0000\",\"20210525-071950\")]:\n",
    "    print(gammastring)\n",
    "    print(gammastring)\n",
    "    print(gammastring)\n",
    "    print(gammastring)\n",
    "    model, encoding = get_model_and_enc(gammastring,timestamp)\n",
    "    jacs = vj.compute_generator_jacobian_analytic(model, encoding, device=device,\n",
    "                                        im_channels=1)#.detach().cpu().numpy()\n",
    "    activities = [np.sum(np.square(jac)) for jac in jacs]\n",
    "    top_jac_inds = np.flip(np.argsort(activities))\n",
    "    for q, ind in enumerate(top_jac_inds):\n",
    "        print(jacs[ind].squeeze().shape)\n",
    "        added_constrast_jac = jacs[ind,0].transpose(1,2,0) * scale + 255/2.\n",
    "        plt.imshow(added_constrast_jac[:,:,0], vmin=0, vmax=255, cmap=\"gray\");plt.show();plt.close();\n",
    "        cv2.imwrite(outputdir+\"ThreeDotsJacGamma%sLatent%dModel%s.png\" %(gammastring,q, timestamp), added_constrast_jac);"
   ]
  },
  {
   "cell_type": "code",
   "execution_count": null,
   "id": "7c6ef731",
   "metadata": {},
   "outputs": [],
   "source": []
  }
 ],
 "metadata": {
  "kernelspec": {
   "display_name": "Python 3",
   "language": "python",
   "name": "python3"
  },
  "language_info": {
   "codemirror_mode": {
    "name": "ipython",
    "version": 3
   },
   "file_extension": ".py",
   "mimetype": "text/x-python",
   "name": "python",
   "nbconvert_exporter": "python",
   "pygments_lexer": "ipython3",
   "version": "3.6.12"
  }
 },
 "nbformat": 4,
 "nbformat_minor": 5
}
